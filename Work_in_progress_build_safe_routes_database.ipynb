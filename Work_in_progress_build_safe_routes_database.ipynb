{
  "nbformat": 4,
  "nbformat_minor": 0,
  "metadata": {
    "colab": {
      "name": "Work in progress -build-safe-routes- database.ipynb",
      "version": "0.3.2",
      "provenance": [],
      "include_colab_link": true
    },
    "kernelspec": {
      "name": "python3",
      "display_name": "Python 3"
    }
  },
  "cells": [
    {
      "cell_type": "markdown",
      "metadata": {
        "id": "view-in-github",
        "colab_type": "text"
      },
      "source": [
        "<a href=\"https://colab.research.google.com/github/Granero0011/Data-Science/blob/master/Work_in_progress_build_safe_routes_database.ipynb\" target=\"_parent\"><img src=\"https://colab.research.google.com/assets/colab-badge.svg\" alt=\"Open In Colab\"/></a>"
      ]
    },
    {
      "cell_type": "code",
      "metadata": {
        "id": "W41rleu1_ti-",
        "colab_type": "code",
        "colab": {}
      },
      "source": [
        "import pandas as pd"
      ],
      "execution_count": 0,
      "outputs": []
    },
    {
      "cell_type": "code",
      "metadata": {
        "id": "nIu0UVX8_wph",
        "colab_type": "code",
        "colab": {
          "base_uri": "https://localhost:8080/",
          "height": 105
        },
        "outputId": "973cde60-e7b4-4be1-fd4d-21e4a8c94e9b"
      },
      "source": [
        "words= [\"acc_aux\", 'accident', 'cevent','Damage','Distract','DrImpair','Factor', 'Maneuver','NMImpair', 'NMPrior', 'PBtype', 'SafetyEq','VEvent', 'VINDecode', 'VSOE', 'Violatn', 'Vision', 'miacc','midrvacc', 'miper', 'nmcrash','parkwork', 'per_aux',\n",
        "       'person', 'veh_aux', 'vehicle']\n",
        "\n",
        "acc_aux =pd.read_csv(\"https://raw.githubusercontent.com/Granero0011/Data-Science/master/datasets/FARS2017NationalCSV/acc_aux.csv\")\n",
        "accident= pd.read_csv(\"https://raw.githubusercontent.com/Granero0011/Data-Science/master/datasets/FARS2017NationalCSV/accident.csv\")\n",
        "cevent= pd.read_csv(\"https://raw.githubusercontent.com/Granero0011/Data-Science/master/datasets/FARS2017NationalCSV/cevent.csv\")\n",
        "Damage= pd.read_csv(\"https://raw.githubusercontent.com/Granero0011/Data-Science/master/datasets/FARS2017NationalCSV/Damage.csv\")\n",
        "Distract= pd.read_csv(\"https://raw.githubusercontent.com/Granero0011/Data-Science/master/datasets/FARS2017NationalCSV/Distract.csv\")\n",
        "DrImpair= pd.read_csv(\"https://raw.githubusercontent.com/Granero0011/Data-Science/master/datasets/FARS2017NationalCSV/DrImpair.csv\")\n",
        "Factor= pd.read_csv(\"https://raw.githubusercontent.com/Granero0011/Data-Science/master/datasets/FARS2017NationalCSV/Factor.csv\")\n",
        "Maneuver= pd.read_csv(\"https://raw.githubusercontent.com/Granero0011/Data-Science/master/datasets/FARS2017NationalCSV/Maneuver.csv\")\n",
        "NMImpair= pd.read_csv(\"https://raw.githubusercontent.com/Granero0011/Data-Science/master/datasets/FARS2017NationalCSV/NMImpair.csv\")\n",
        "NMPrior= pd.read_csv(\"https://raw.githubusercontent.com/Granero0011/Data-Science/master/datasets/FARS2017NationalCSV/NMPrior.csv\")\n",
        "PBtype= pd.read_csv(\"https://raw.githubusercontent.com/Granero0011/Data-Science/master/datasets/FARS2017NationalCSV/PBType.csv\")\n",
        "SafetyEq= pd.read_csv(\"https://raw.githubusercontent.com/Granero0011/Data-Science/master/datasets/FARS2017NationalCSV/SafetyEq.csv\")\n",
        "VEvent= pd.read_csv(\"https://raw.githubusercontent.com/Granero0011/Data-Science/master/datasets/FARS2017NationalCSV/VEvent.csv\")\n",
        "VINDecode= pd.read_csv(\"https://raw.githubusercontent.com/Granero0011/Data-Science/master/datasets/FARS2017NationalCSV/VINDecode.csv\")\n",
        "VSOE= pd.read_csv(\"https://raw.githubusercontent.com/Granero0011/Data-Science/master/datasets/FARS2017NationalCSV/VSOE.csv\")\n",
        "Violatn= pd.read_csv(\"https://raw.githubusercontent.com/Granero0011/Data-Science/master/datasets/FARS2017NationalCSV/Violatn.csv\")\n",
        "Vision= pd.read_csv(\"https://raw.githubusercontent.com/Granero0011/Data-Science/master/datasets/FARS2017NationalCSV/Vision.csv\")\n",
        "miacc= pd.read_csv(\"https://raw.githubusercontent.com/Granero0011/Data-Science/master/datasets/FARS2017NationalCSV/miacc.csv\")\n",
        "midrvacc= pd.read_csv(\"https://raw.githubusercontent.com/Granero0011/Data-Science/master/datasets/FARS2017NationalCSV/midrvacc.csv\")\n",
        "miper= pd.read_csv(\"https://raw.githubusercontent.com/Granero0011/Data-Science/master/datasets/FARS2017NationalCSV/miper.csv\")\n",
        "nmcrash= pd.read_csv(\"https://raw.githubusercontent.com/Granero0011/Data-Science/master/datasets/FARS2017NationalCSV/nmcrash.csv\")\n",
        "parkwork= pd.read_csv(\"https://raw.githubusercontent.com/Granero0011/Data-Science/master/datasets/FARS2017NationalCSV/parkwork.csv\")\n",
        "per_aux= pd.read_csv(\"https://raw.githubusercontent.com/Granero0011/Data-Science/master/datasets/FARS2017NationalCSV/per_aux.csv\")\n",
        "person= pd.read_csv(\"https://raw.githubusercontent.com/Granero0011/Data-Science/master/datasets/FARS2017NationalCSV/person.csv\")\n",
        "veh_aux= pd.read_csv(\"https://raw.githubusercontent.com/Granero0011/Data-Science/master/datasets/FARS2017NationalCSV/veh_aux.csv\")\n",
        "vehicle= pd.read_csv(\"https://raw.githubusercontent.com/Granero0011/Data-Science/master/datasets/FARS2017NationalCSV/vehicle.csv\")"
      ],
      "execution_count": 10,
      "outputs": [
        {
          "output_type": "stream",
          "text": [
            "/usr/local/lib/python3.6/dist-packages/IPython/core/interactiveshell.py:2718: DtypeWarning: Columns (31,42) have mixed types. Specify dtype option on import or set low_memory=False.\n",
            "  interactivity=interactivity, compiler=compiler, result=result)\n",
            "/usr/local/lib/python3.6/dist-packages/IPython/core/interactiveshell.py:2718: DtypeWarning: Columns (101,102) have mixed types. Specify dtype option on import or set low_memory=False.\n",
            "  interactivity=interactivity, compiler=compiler, result=result)\n"
          ],
          "name": "stderr"
        }
      ]
    },
    {
      "cell_type": "code",
      "metadata": {
        "id": "s1CF6kBwI-sb",
        "colab_type": "code",
        "colab": {}
      },
      "source": [
        "df= pd.read_csv('https://raw.githubusercontent.com/Granero0011/Data-Science/master/datasets/FARS2017NationalCSV/accident.csv')"
      ],
      "execution_count": 0,
      "outputs": []
    },
    {
      "cell_type": "code",
      "metadata": {
        "id": "MQjuLoMeKShd",
        "colab_type": "code",
        "colab": {}
      },
      "source": [
        ""
      ],
      "execution_count": 0,
      "outputs": []
    }
  ]
}